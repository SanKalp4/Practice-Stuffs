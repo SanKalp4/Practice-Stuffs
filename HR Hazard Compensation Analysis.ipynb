{
  "nbformat": 4,
  "nbformat_minor": 0,
  "metadata": {
    "colab": {
      "name": "Sankalpa Saha DS HRA-II.ipynb",
      "provenance": [],
      "authorship_tag": "ABX9TyO18Nt1xX9CEcuTqVizkGzc",
      "include_colab_link": true
    },
    "kernelspec": {
      "name": "python3",
      "display_name": "Python 3"
    },
    "language_info": {
      "name": "python"
    }
  },
  "cells": [
    {
      "cell_type": "markdown",
      "metadata": {
        "id": "view-in-github",
        "colab_type": "text"
      },
      "source": [
        "<a href=\"https://colab.research.google.com/github/SanKalp4/Practice-Stuffs/blob/main/HR%20Hazard%20Compensation%20Analysis.ipynb\" target=\"_parent\"><img src=\"https://colab.research.google.com/assets/colab-badge.svg\" alt=\"Open In Colab\"/></a>"
      ]
    },
    {
      "cell_type": "code",
      "metadata": {
        "id": "h_Fmlu0mwpUm"
      },
      "source": [
        "import numpy as np\n",
        "import pandas as pd\n",
        "import matplotlib.pyplot as plt\n",
        "import seaborn as sns\n"
      ],
      "execution_count": 2,
      "outputs": []
    },
    {
      "cell_type": "code",
      "metadata": {
        "id": "ZjqH5WkxyAXU"
      },
      "source": [
        "df= pd.read_csv('/content/IHMStefanini_industrial_safety_and_health_database_with_accidents_description (1).csv')"
      ],
      "execution_count": 3,
      "outputs": []
    },
    {
      "cell_type": "code",
      "metadata": {
        "colab": {
          "base_uri": "https://localhost:8080/",
          "height": 546
        },
        "id": "VLkGkoBbyIvx",
        "outputId": "81ec0d9e-357e-4e51-9193-d1ddbfeabf44"
      },
      "source": [
        "df.head(10)"
      ],
      "execution_count": 4,
      "outputs": [
        {
          "output_type": "execute_result",
          "data": {
            "text/html": [
              "<div>\n",
              "<style scoped>\n",
              "    .dataframe tbody tr th:only-of-type {\n",
              "        vertical-align: middle;\n",
              "    }\n",
              "\n",
              "    .dataframe tbody tr th {\n",
              "        vertical-align: top;\n",
              "    }\n",
              "\n",
              "    .dataframe thead th {\n",
              "        text-align: right;\n",
              "    }\n",
              "</style>\n",
              "<table border=\"1\" class=\"dataframe\">\n",
              "  <thead>\n",
              "    <tr style=\"text-align: right;\">\n",
              "      <th></th>\n",
              "      <th>Unnamed: 0</th>\n",
              "      <th>Data</th>\n",
              "      <th>Countries</th>\n",
              "      <th>Industry Sector</th>\n",
              "      <th>Accident Level</th>\n",
              "      <th>Potential Accident Level</th>\n",
              "      <th>Genre</th>\n",
              "      <th>Employee or Third Party</th>\n",
              "      <th>Critical Risk</th>\n",
              "      <th>Description</th>\n",
              "    </tr>\n",
              "  </thead>\n",
              "  <tbody>\n",
              "    <tr>\n",
              "      <th>0</th>\n",
              "      <td>0</td>\n",
              "      <td>01-01-2016 00:00</td>\n",
              "      <td>Country_01</td>\n",
              "      <td>Mining</td>\n",
              "      <td>I</td>\n",
              "      <td>IV</td>\n",
              "      <td>Male</td>\n",
              "      <td>Third Party</td>\n",
              "      <td>Pressed</td>\n",
              "      <td>While removing the drill rod of the Jumbo 08 f...</td>\n",
              "    </tr>\n",
              "    <tr>\n",
              "      <th>1</th>\n",
              "      <td>1</td>\n",
              "      <td>02-01-2016 00:00</td>\n",
              "      <td>Country_02</td>\n",
              "      <td>Mining</td>\n",
              "      <td>I</td>\n",
              "      <td>IV</td>\n",
              "      <td>Male</td>\n",
              "      <td>Employee</td>\n",
              "      <td>Pressurized Systems</td>\n",
              "      <td>During the activation of a sodium sulphide pum...</td>\n",
              "    </tr>\n",
              "    <tr>\n",
              "      <th>2</th>\n",
              "      <td>2</td>\n",
              "      <td>06-01-2016 00:00</td>\n",
              "      <td>Country_01</td>\n",
              "      <td>Mining</td>\n",
              "      <td>I</td>\n",
              "      <td>III</td>\n",
              "      <td>Male</td>\n",
              "      <td>Third Party (Remote)</td>\n",
              "      <td>Manual Tools</td>\n",
              "      <td>In the sub-station MILPO located at level +170...</td>\n",
              "    </tr>\n",
              "    <tr>\n",
              "      <th>3</th>\n",
              "      <td>3</td>\n",
              "      <td>08-01-2016 00:00</td>\n",
              "      <td>Country_01</td>\n",
              "      <td>Mining</td>\n",
              "      <td>I</td>\n",
              "      <td>I</td>\n",
              "      <td>Male</td>\n",
              "      <td>Third Party</td>\n",
              "      <td>Others</td>\n",
              "      <td>Being 9:45 am. approximately in the Nv. 1880 C...</td>\n",
              "    </tr>\n",
              "    <tr>\n",
              "      <th>4</th>\n",
              "      <td>4</td>\n",
              "      <td>10-01-2016 00:00</td>\n",
              "      <td>Country_01</td>\n",
              "      <td>Mining</td>\n",
              "      <td>IV</td>\n",
              "      <td>IV</td>\n",
              "      <td>Male</td>\n",
              "      <td>Third Party</td>\n",
              "      <td>Others</td>\n",
              "      <td>Approximately at 11:45 a.m. in circumstances t...</td>\n",
              "    </tr>\n",
              "    <tr>\n",
              "      <th>5</th>\n",
              "      <td>5</td>\n",
              "      <td>12-01-2016 00:00</td>\n",
              "      <td>Country_02</td>\n",
              "      <td>Metals</td>\n",
              "      <td>I</td>\n",
              "      <td>III</td>\n",
              "      <td>Male</td>\n",
              "      <td>Third Party (Remote)</td>\n",
              "      <td>Pressurized Systems</td>\n",
              "      <td>During the unloading operation of the ustulado...</td>\n",
              "    </tr>\n",
              "    <tr>\n",
              "      <th>6</th>\n",
              "      <td>6</td>\n",
              "      <td>16-01-2016 00:00</td>\n",
              "      <td>Country_02</td>\n",
              "      <td>Metals</td>\n",
              "      <td>I</td>\n",
              "      <td>III</td>\n",
              "      <td>Male</td>\n",
              "      <td>Employee</td>\n",
              "      <td>Fall prevention (same level)</td>\n",
              "      <td>The collaborator reports that he was on street...</td>\n",
              "    </tr>\n",
              "    <tr>\n",
              "      <th>7</th>\n",
              "      <td>7</td>\n",
              "      <td>17-01-2016 00:00</td>\n",
              "      <td>Country_01</td>\n",
              "      <td>Mining</td>\n",
              "      <td>I</td>\n",
              "      <td>III</td>\n",
              "      <td>Male</td>\n",
              "      <td>Third Party</td>\n",
              "      <td>Pressed</td>\n",
              "      <td>At approximately 04:50 p.m., when the mechanic...</td>\n",
              "    </tr>\n",
              "    <tr>\n",
              "      <th>8</th>\n",
              "      <td>8</td>\n",
              "      <td>19-01-2016 00:00</td>\n",
              "      <td>Country_02</td>\n",
              "      <td>Mining</td>\n",
              "      <td>I</td>\n",
              "      <td>IV</td>\n",
              "      <td>Male</td>\n",
              "      <td>Third Party (Remote)</td>\n",
              "      <td>Others</td>\n",
              "      <td>Employee was sitting in the resting area at le...</td>\n",
              "    </tr>\n",
              "    <tr>\n",
              "      <th>9</th>\n",
              "      <td>9</td>\n",
              "      <td>26-01-2016 00:00</td>\n",
              "      <td>Country_01</td>\n",
              "      <td>Metals</td>\n",
              "      <td>I</td>\n",
              "      <td>II</td>\n",
              "      <td>Male</td>\n",
              "      <td>Third Party</td>\n",
              "      <td>Chemical substances</td>\n",
              "      <td>At the moment the forklift operator went to ma...</td>\n",
              "    </tr>\n",
              "  </tbody>\n",
              "</table>\n",
              "</div>"
            ],
            "text/plain": [
              "   Unnamed: 0  ...                                        Description\n",
              "0           0  ...  While removing the drill rod of the Jumbo 08 f...\n",
              "1           1  ...  During the activation of a sodium sulphide pum...\n",
              "2           2  ...  In the sub-station MILPO located at level +170...\n",
              "3           3  ...  Being 9:45 am. approximately in the Nv. 1880 C...\n",
              "4           4  ...  Approximately at 11:45 a.m. in circumstances t...\n",
              "5           5  ...  During the unloading operation of the ustulado...\n",
              "6           6  ...  The collaborator reports that he was on street...\n",
              "7           7  ...  At approximately 04:50 p.m., when the mechanic...\n",
              "8           8  ...  Employee was sitting in the resting area at le...\n",
              "9           9  ...  At the moment the forklift operator went to ma...\n",
              "\n",
              "[10 rows x 10 columns]"
            ]
          },
          "metadata": {
            "tags": []
          },
          "execution_count": 4
        }
      ]
    },
    {
      "cell_type": "code",
      "metadata": {
        "colab": {
          "base_uri": "https://localhost:8080/"
        },
        "id": "ISbm7fmsyUO-",
        "outputId": "73279144-ea56-4a6d-ef8c-7d254aa78fb4"
      },
      "source": [
        "df.info()"
      ],
      "execution_count": 6,
      "outputs": [
        {
          "output_type": "stream",
          "text": [
            "<class 'pandas.core.frame.DataFrame'>\n",
            "RangeIndex: 425 entries, 0 to 424\n",
            "Data columns (total 10 columns):\n",
            " #   Column                    Non-Null Count  Dtype \n",
            "---  ------                    --------------  ----- \n",
            " 0   Unnamed: 0                425 non-null    int64 \n",
            " 1   Data                      425 non-null    object\n",
            " 2   Countries                 425 non-null    object\n",
            " 3   Industry Sector           425 non-null    object\n",
            " 4   Accident Level            425 non-null    object\n",
            " 5   Potential Accident Level  425 non-null    object\n",
            " 6   Genre                     425 non-null    object\n",
            " 7   Employee or Third Party   425 non-null    object\n",
            " 8   Critical Risk             425 non-null    object\n",
            " 9   Description               425 non-null    object\n",
            "dtypes: int64(1), object(9)\n",
            "memory usage: 33.3+ KB\n"
          ],
          "name": "stdout"
        }
      ]
    },
    {
      "cell_type": "markdown",
      "metadata": {
        "id": "BIJ9VgpMFQd1"
      },
      "source": [
        "# EDA"
      ]
    },
    {
      "cell_type": "code",
      "metadata": {
        "colab": {
          "base_uri": "https://localhost:8080/"
        },
        "id": "IZvCBT4QKdoq",
        "outputId": "fd2c6ccd-1ec0-4ba9-c9b1-e42c8c0f5626"
      },
      "source": [
        "df['Industry Sector'].unique()"
      ],
      "execution_count": 37,
      "outputs": [
        {
          "output_type": "execute_result",
          "data": {
            "text/plain": [
              "array(['Mining', 'Metals', 'Others'], dtype=object)"
            ]
          },
          "metadata": {
            "tags": []
          },
          "execution_count": 37
        }
      ]
    },
    {
      "cell_type": "markdown",
      "metadata": {
        "id": "ixKxxrl9R2T6"
      },
      "source": [
        "Dropping unnamed column as insignificant, renaming data and genre column"
      ]
    },
    {
      "cell_type": "code",
      "metadata": {
        "colab": {
          "base_uri": "https://localhost:8080/",
          "height": 114
        },
        "id": "s-Upszuiz1tL",
        "outputId": "a127fa9f-9db7-4cdb-bc59-258fc7ce0b24"
      },
      "source": [
        "df.drop(labels='Unnamed: 0',axis=1,inplace=True)\n",
        "df.rename(columns={\"Genre\": \"Gender\", \"Data\": \"Date\"}, inplace=True)\n",
        "df['Date']= pd.to_datetime(df['Date']) \n",
        "df.head(1)"
      ],
      "execution_count": 9,
      "outputs": [
        {
          "output_type": "execute_result",
          "data": {
            "text/html": [
              "<div>\n",
              "<style scoped>\n",
              "    .dataframe tbody tr th:only-of-type {\n",
              "        vertical-align: middle;\n",
              "    }\n",
              "\n",
              "    .dataframe tbody tr th {\n",
              "        vertical-align: top;\n",
              "    }\n",
              "\n",
              "    .dataframe thead th {\n",
              "        text-align: right;\n",
              "    }\n",
              "</style>\n",
              "<table border=\"1\" class=\"dataframe\">\n",
              "  <thead>\n",
              "    <tr style=\"text-align: right;\">\n",
              "      <th></th>\n",
              "      <th>Date</th>\n",
              "      <th>Countries</th>\n",
              "      <th>Industry Sector</th>\n",
              "      <th>Accident Level</th>\n",
              "      <th>Potential Accident Level</th>\n",
              "      <th>Gender</th>\n",
              "      <th>Employee or Third Party</th>\n",
              "      <th>Critical Risk</th>\n",
              "      <th>Description</th>\n",
              "    </tr>\n",
              "  </thead>\n",
              "  <tbody>\n",
              "    <tr>\n",
              "      <th>0</th>\n",
              "      <td>2016-01-01</td>\n",
              "      <td>Country_01</td>\n",
              "      <td>Mining</td>\n",
              "      <td>I</td>\n",
              "      <td>IV</td>\n",
              "      <td>Male</td>\n",
              "      <td>Third Party</td>\n",
              "      <td>Pressed</td>\n",
              "      <td>While removing the drill rod of the Jumbo 08 f...</td>\n",
              "    </tr>\n",
              "  </tbody>\n",
              "</table>\n",
              "</div>"
            ],
            "text/plain": [
              "        Date  ...                                        Description\n",
              "0 2016-01-01  ...  While removing the drill rod of the Jumbo 08 f...\n",
              "\n",
              "[1 rows x 9 columns]"
            ]
          },
          "metadata": {
            "tags": []
          },
          "execution_count": 9
        }
      ]
    },
    {
      "cell_type": "code",
      "metadata": {
        "colab": {
          "base_uri": "https://localhost:8080/",
          "height": 347
        },
        "id": "j6g5yDYT0o60",
        "outputId": "4e61ce57-2a7b-4802-bafd-e1ae0bc551f0"
      },
      "source": [
        "sns.countplot(y='Employee or Third Party', data=df, orient='h', palette='Blues_r')\n",
        "acc_level = df['Employee or Third Party'].value_counts()\n",
        "acc_level"
      ],
      "execution_count": 28,
      "outputs": [
        {
          "output_type": "execute_result",
          "data": {
            "text/plain": [
              "Third Party             189\n",
              "Employee                179\n",
              "Third Party (Remote)     57\n",
              "Name: Employee or Third Party, dtype: int64"
            ]
          },
          "metadata": {
            "tags": []
          },
          "execution_count": 28
        },
        {
          "output_type": "display_data",
          "data": {
            "image/png": "[encoded data removed]",
            "text/plain": [
              "<Figure size 432x288 with 1 Axes>"
            ]
          },
          "metadata": {
            "tags": [],
            "needs_background": "light"
          }
        }
      ]
    },
    {
      "cell_type": "markdown",
      "metadata": {
        "id": "UGNv9aSSRo_i"
      },
      "source": [
        "Mapping data into usable stats"
      ]
    },
    {
      "cell_type": "code",
      "metadata": {
        "id": "4fA2qMXh1CZO"
      },
      "source": [
        "level_map = {'I': 1, 'II': 2,'III': 3 , 'IV' : 4, 'V': 5, 'VI' : 6}\n",
        "df['Accident Level'] = pd.Series([level_map[x] for x in df['Accident Level']], index=df.index)"
      ],
      "execution_count": 13,
      "outputs": []
    },
    {
      "cell_type": "code",
      "metadata": {
        "id": "fGmL8mKgLuER"
      },
      "source": [
        "level_map_2 = {'I': 1, 'II': 2,'III': 3 , 'IV' : 4, 'V': 5, 'VI' : 6}\n",
        "df['Potential Accident Level'] = pd.Series([level_map_2[x] for x in df['Potential Accident Level']], index=df.index)"
      ],
      "execution_count": 38,
      "outputs": []
    },
    {
      "cell_type": "code",
      "metadata": {
        "colab": {
          "base_uri": "https://localhost:8080/",
          "height": 381
        },
        "id": "d9NOETL45KI5",
        "outputId": "b85f1b99-f4ab-4667-88b0-f0e9cadd1fdd"
      },
      "source": [
        "sns.countplot(x='Accident Level', data=df, palette='cool')\n",
        "acc_level = df['Accident Level'].value_counts()\n",
        "print(acc_level)"
      ],
      "execution_count": 15,
      "outputs": [
        {
          "output_type": "stream",
          "text": [
            "1    316\n",
            "2     40\n",
            "3     31\n",
            "4     30\n",
            "5      8\n",
            "Name: Accident Level, dtype: int64\n"
          ],
          "name": "stdout"
        },
        {
          "output_type": "display_data",
          "data": {
            "image/png": "[encoded data removed]",
            "text/plain": [
              "<Figure size 432x288 with 1 Axes>"
            ]
          },
          "metadata": {
            "tags": [],
            "needs_background": "light"
          }
        }
      ]
    },
    {
      "cell_type": "code",
      "metadata": {
        "colab": {
          "base_uri": "https://localhost:8080/",
          "height": 398
        },
        "id": "9Vc6g7bWL-0Y",
        "outputId": "804a924c-588c-4bf1-f7fe-81700f918ad9"
      },
      "source": [
        "sns.countplot(x='Potential Accident Level', data=df, palette='winter')\n",
        "acc_level2 = df['Potential Accident Level'].value_counts()\n",
        "print(acc_level2)"
      ],
      "execution_count": 39,
      "outputs": [
        {
          "output_type": "stream",
          "text": [
            "4    143\n",
            "3    106\n",
            "2     95\n",
            "1     49\n",
            "5     31\n",
            "6      1\n",
            "Name: Potential Accident Level, dtype: int64\n"
          ],
          "name": "stdout"
        },
        {
          "output_type": "display_data",
          "data": {
            "image/png": "[encoded data removed]",
            "text/plain": [
              "<Figure size 432x288 with 1 Axes>"
            ]
          },
          "metadata": {
            "tags": [],
            "needs_background": "light"
          }
        }
      ]
    },
    {
      "cell_type": "code",
      "metadata": {
        "colab": {
          "base_uri": "https://localhost:8080/",
          "height": 330
        },
        "id": "fEx9FHNR_EDo",
        "outputId": "abe48920-f501-4ea2-e28a-dd5e45c698a1"
      },
      "source": [
        "sns.countplot(y='Gender', data=df, orient='h', palette='Greens')\n",
        "acc_level = df['Gender'].value_counts()\n",
        "acc_level"
      ],
      "execution_count": 20,
      "outputs": [
        {
          "output_type": "execute_result",
          "data": {
            "text/plain": [
              "Male      403\n",
              "Female     22\n",
              "Name: Gender, dtype: int64"
            ]
          },
          "metadata": {
            "tags": []
          },
          "execution_count": 20
        },
        {
          "output_type": "display_data",
          "data": {
            "image/png": "[encoded data removed]",
            "text/plain": [
              "<Figure size 432x288 with 1 Axes>"
            ]
          },
          "metadata": {
            "tags": [],
            "needs_background": "light"
          }
        }
      ]
    },
    {
      "cell_type": "markdown",
      "metadata": {
        "id": "nnXJ9AZOIAA6"
      },
      "source": [
        "Comparing accident level and potential level with different important metrics like country, industry sector and employee type to understand the underlying pattern and hidden answers"
      ]
    },
    {
      "cell_type": "markdown",
      "metadata": {
        "id": "YtCa7CiKIiOU"
      },
      "source": [
        "vs employment type\n"
      ]
    },
    {
      "cell_type": "code",
      "metadata": {
        "colab": {
          "base_uri": "https://localhost:8080/",
          "height": 617
        },
        "id": "iB_f_fSX5co6",
        "outputId": "e97b25a8-06f3-41fe-cd9a-e9f2a710dc37"
      },
      "source": [
        "acc_emp = df.loc[df['Employee or Third Party'] == 'Employee']['Accident Level'].value_counts()\n",
        "print(acc_emp)\n",
        "acc_3rd = df.loc[df['Employee or Third Party'] == 'Third Party']['Accident Level'].value_counts()\n",
        "print(acc_3rd)\n",
        "\n",
        "acc_rmt = df.loc[df['Employee or Third Party'] == 'Third Party (Remote)']['Accident Level'].value_counts()\n",
        "print(acc_rmt)\n",
        "\n",
        "sns.catplot(x=\"Accident Level\",col=\"Employee or Third Party\",data=df, kind=\"count\",height=4, aspect=1.2, palette='cool')"
      ],
      "execution_count": 40,
      "outputs": [
        {
          "output_type": "stream",
          "text": [
            "1    140\n",
            "2     15\n",
            "3     14\n",
            "4     10\n",
            "Name: Accident Level, dtype: int64\n",
            "1    134\n",
            "2     19\n",
            "4     16\n",
            "3     14\n",
            "5      6\n",
            "Name: Accident Level, dtype: int64\n",
            "1    42\n",
            "2     6\n",
            "4     4\n",
            "3     3\n",
            "5     2\n",
            "Name: Accident Level, dtype: int64\n"
          ],
          "name": "stdout"
        },
        {
          "output_type": "execute_result",
          "data": {
            "text/plain": [
              "<seaborn.axisgrid.FacetGrid at 0x7f0983c66a90>"
            ]
          },
          "metadata": {
            "tags": []
          },
          "execution_count": 40
        },
        {
          "output_type": "display_data",
          "data": {
            "image/png": "[encoded data removed]",
            "text/plain": [
              "<Figure size 1036.8x288 with 3 Axes>"
            ]
          },
          "metadata": {
            "tags": [],
            "needs_background": "light"
          }
        }
      ]
    },
    {
      "cell_type": "code",
      "metadata": {
        "colab": {
          "base_uri": "https://localhost:8080/",
          "height": 328
        },
        "id": "9yFfoxT2Hq0n",
        "outputId": "f606ed98-6815-4b9d-cae7-cb36f8fced77"
      },
      "source": [
        "sns.catplot(x=\"Potential Accident Level\",col=\"Employee or Third Party\",data=df, kind=\"count\",height=4, aspect=1.2, palette='winter')"
      ],
      "execution_count": 41,
      "outputs": [
        {
          "output_type": "execute_result",
          "data": {
            "text/plain": [
              "<seaborn.axisgrid.FacetGrid at 0x7f0983c715d0>"
            ]
          },
          "metadata": {
            "tags": []
          },
          "execution_count": 41
        },
        {
          "output_type": "display_data",
          "data": {
            "image/png": "[encoded data removed]",
            "text/plain": [
              "<Figure size 1036.8x288 with 3 Axes>"
            ]
          },
          "metadata": {
            "tags": [],
            "needs_background": "light"
          }
        }
      ]
    },
    {
      "cell_type": "markdown",
      "metadata": {
        "id": "WZ0iFGlKIXuY"
      },
      "source": [
        "vs Countries"
      ]
    },
    {
      "cell_type": "code",
      "metadata": {
        "colab": {
          "base_uri": "https://localhost:8080/",
          "height": 328
        },
        "id": "VDAkENCQ_VJj",
        "outputId": "fb944cd6-0920-4420-fc45-1e907f7508fb"
      },
      "source": [
        "sns.catplot(x=\"Accident Level\",col=\"Countries\",data=df, kind=\"count\",height=4, aspect=1.2, palette='cool')"
      ],
      "execution_count": 42,
      "outputs": [
        {
          "output_type": "execute_result",
          "data": {
            "text/plain": [
              "<seaborn.axisgrid.FacetGrid at 0x7f09839a48d0>"
            ]
          },
          "metadata": {
            "tags": []
          },
          "execution_count": 42
        },
        {
          "output_type": "display_data",
          "data": {
            "image/png": "[encoded data removed]",
            "text/plain": [
              "<Figure size 1036.8x288 with 3 Axes>"
            ]
          },
          "metadata": {
            "tags": [],
            "needs_background": "light"
          }
        }
      ]
    },
    {
      "cell_type": "code",
      "metadata": {
        "colab": {
          "base_uri": "https://localhost:8080/",
          "height": 328
        },
        "id": "pyjjvpIbHbPq",
        "outputId": "a1798319-480b-47ee-8be4-9de5fe323c8e"
      },
      "source": [
        "sns.catplot(x=\"Potential Accident Level\",col=\"Countries\",data=df, kind=\"count\",height=4, aspect=1.2, palette='winter')"
      ],
      "execution_count": 43,
      "outputs": [
        {
          "output_type": "execute_result",
          "data": {
            "text/plain": [
              "<seaborn.axisgrid.FacetGrid at 0x7f098393ff50>"
            ]
          },
          "metadata": {
            "tags": []
          },
          "execution_count": 43
        },
        {
          "output_type": "display_data",
          "data": {
            "image/png": "[encoded data removed]",
            "text/plain": [
              "<Figure size 1036.8x288 with 3 Axes>"
            ]
          },
          "metadata": {
            "tags": [],
            "needs_background": "light"
          }
        }
      ]
    },
    {
      "cell_type": "markdown",
      "metadata": {
        "id": "frCY-umxIbUy"
      },
      "source": [
        "vs sectors"
      ]
    },
    {
      "cell_type": "code",
      "metadata": {
        "colab": {
          "base_uri": "https://localhost:8080/",
          "height": 328
        },
        "id": "aZywo97F_zTR",
        "outputId": "7a05e5d5-d26f-4849-97c0-35b5ec562e87"
      },
      "source": [
        "sns.catplot(x=\"Accident Level\",col=\"Industry Sector\",data=df, kind=\"count\",height=4, aspect=1.2, palette='cool')"
      ],
      "execution_count": 44,
      "outputs": [
        {
          "output_type": "execute_result",
          "data": {
            "text/plain": [
              "<seaborn.axisgrid.FacetGrid at 0x7f0983767d10>"
            ]
          },
          "metadata": {
            "tags": []
          },
          "execution_count": 44
        },
        {
          "output_type": "display_data",
          "data": {
            "image/png": "[encoded data removed]",
            "text/plain": [
              "<Figure size 1036.8x288 with 3 Axes>"
            ]
          },
          "metadata": {
            "tags": [],
            "needs_background": "light"
          }
        }
      ]
    },
    {
      "cell_type": "code",
      "metadata": {
        "colab": {
          "base_uri": "https://localhost:8080/",
          "height": 328
        },
        "id": "-GRHIumIG35z",
        "outputId": "b6b7b8b1-d4f1-44d4-a70c-42b23b69ed04"
      },
      "source": [
        "sns.catplot(x=\"Potential Accident Level\",col=\"Industry Sector\",data=df, kind=\"count\",height=4, aspect=1.2, palette='winter')"
      ],
      "execution_count": 45,
      "outputs": [
        {
          "output_type": "execute_result",
          "data": {
            "text/plain": [
              "<seaborn.axisgrid.FacetGrid at 0x7f098359d4d0>"
            ]
          },
          "metadata": {
            "tags": []
          },
          "execution_count": 45
        },
        {
          "output_type": "display_data",
          "data": {
            "image/png": "[encoded data removed]",
            "text/plain": [
              "<Figure size 1036.8x288 with 3 Axes>"
            ]
          },
          "metadata": {
            "tags": [],
            "needs_background": "light"
          }
        }
      ]
    },
    {
      "cell_type": "markdown",
      "metadata": {
        "id": "yevz9aSIGHY1"
      },
      "source": [
        "# Decoding Data from text\n"
      ]
    },
    {
      "cell_type": "code",
      "metadata": {
        "colab": {
          "base_uri": "https://localhost:8080/"
        },
        "id": "s5jGvumJ-b85",
        "outputId": "5fce48e3-011e-4045-f48f-003fab2fc60d"
      },
      "source": [
        "from wordcloud import WordCloud, STOPWORDS\n",
        "import nltk\n",
        "from nltk.util import ngrams\n",
        "from nltk import tokenize,stem\n",
        "nltk.download('wordnet')\n",
        "nltk.download('punkt')"
      ],
      "execution_count": 24,
      "outputs": [
        {
          "output_type": "stream",
          "text": [
            "[nltk_data] Downloading package wordnet to /root/nltk_data...\n",
            "[nltk_data]   Unzipping corpora/wordnet.zip.\n",
            "[nltk_data] Downloading package punkt to /root/nltk_data...\n",
            "[nltk_data]   Unzipping tokenizers/punkt.zip.\n"
          ],
          "name": "stdout"
        },
        {
          "output_type": "execute_result",
          "data": {
            "text/plain": [
              "True"
            ]
          },
          "metadata": {
            "tags": []
          },
          "execution_count": 24
        }
      ]
    },
    {
      "cell_type": "code",
      "metadata": {
        "id": "yh3ADNaYDVn2"
      },
      "source": [
        "def nlp_preprocesser(row):\n",
        "    sentence = row.Description\n",
        "    #convert all characters to lowercase\n",
        "    lower_case = sentence.lower()\n",
        "    tokenz = tokenize.word_tokenize(lower_case)\n",
        "\n",
        "    #lemmatizing & stemming\n",
        "    lemmatizer = stem.WordNetLemmatizer()\n",
        "    lem = [lemmatizer.lemmatize(i) for i in tokenz if i not in STOPWORDS]\n",
        "    stemmer = stem.PorterStemmer()\n",
        "    stems = [stemmer.stem(i) for i in lem if i not in STOPWORDS]\n",
        "\n",
        "    #remove non-alphabetical characters like '(', '.' or '!'\n",
        "    alphas = [i for i in stems if i.isalpha() and (i not in STOPWORDS)]\n",
        "    return \" \".join(alphas)"
      ],
      "execution_count": 25,
      "outputs": []
    },
    {
      "cell_type": "code",
      "metadata": {
        "colab": {
          "base_uri": "https://localhost:8080/",
          "height": 306
        },
        "id": "WzFQjHnaEKno",
        "outputId": "54f9b2eb-02b0-45c3-8224-21e04ff7b00e"
      },
      "source": [
        "df['Description_processed'] = df.apply(nlp_preprocesser, axis=1)\n",
        "df.head(5)"
      ],
      "execution_count": 26,
      "outputs": [
        {
          "output_type": "execute_result",
          "data": {
            "text/html": [
              "<div>\n",
              "<style scoped>\n",
              "    .dataframe tbody tr th:only-of-type {\n",
              "        vertical-align: middle;\n",
              "    }\n",
              "\n",
              "    .dataframe tbody tr th {\n",
              "        vertical-align: top;\n",
              "    }\n",
              "\n",
              "    .dataframe thead th {\n",
              "        text-align: right;\n",
              "    }\n",
              "</style>\n",
              "<table border=\"1\" class=\"dataframe\">\n",
              "  <thead>\n",
              "    <tr style=\"text-align: right;\">\n",
              "      <th></th>\n",
              "      <th>Date</th>\n",
              "      <th>Countries</th>\n",
              "      <th>Industry Sector</th>\n",
              "      <th>Accident Level</th>\n",
              "      <th>Potential Accident Level</th>\n",
              "      <th>Gender</th>\n",
              "      <th>Employee or Third Party</th>\n",
              "      <th>Critical Risk</th>\n",
              "      <th>Description</th>\n",
              "      <th>Day of the Week</th>\n",
              "      <th>Description_processed</th>\n",
              "    </tr>\n",
              "  </thead>\n",
              "  <tbody>\n",
              "    <tr>\n",
              "      <th>0</th>\n",
              "      <td>2016-01-01</td>\n",
              "      <td>Country_01</td>\n",
              "      <td>Mining</td>\n",
              "      <td>1</td>\n",
              "      <td>IV</td>\n",
              "      <td>Male</td>\n",
              "      <td>Third Party</td>\n",
              "      <td>Pressed</td>\n",
              "      <td>While removing the drill rod of the Jumbo 08 f...</td>\n",
              "      <td>Friday</td>\n",
              "      <td>remov drill rod jumbo mainten supervisor proce...</td>\n",
              "    </tr>\n",
              "    <tr>\n",
              "      <th>1</th>\n",
              "      <td>2016-02-01</td>\n",
              "      <td>Country_02</td>\n",
              "      <td>Mining</td>\n",
              "      <td>1</td>\n",
              "      <td>IV</td>\n",
              "      <td>Male</td>\n",
              "      <td>Employee</td>\n",
              "      <td>Pressurized Systems</td>\n",
              "      <td>During the activation of a sodium sulphide pum...</td>\n",
              "      <td>Monday</td>\n",
              "      <td>activ sodium sulphid pump pipe uncoupl sulfid ...</td>\n",
              "    </tr>\n",
              "    <tr>\n",
              "      <th>2</th>\n",
              "      <td>2016-06-01</td>\n",
              "      <td>Country_01</td>\n",
              "      <td>Mining</td>\n",
              "      <td>1</td>\n",
              "      <td>III</td>\n",
              "      <td>Male</td>\n",
              "      <td>Third Party (Remote)</td>\n",
              "      <td>Manual Tools</td>\n",
              "      <td>In the sub-station MILPO located at level +170...</td>\n",
              "      <td>Wednesday</td>\n",
              "      <td>milpo locat level collabor excav work pick han...</td>\n",
              "    </tr>\n",
              "    <tr>\n",
              "      <th>3</th>\n",
              "      <td>2016-08-01</td>\n",
              "      <td>Country_01</td>\n",
              "      <td>Mining</td>\n",
              "      <td>1</td>\n",
              "      <td>I</td>\n",
              "      <td>Male</td>\n",
              "      <td>Third Party</td>\n",
              "      <td>Others</td>\n",
              "      <td>Being 9:45 am. approximately in the Nv. 1880 C...</td>\n",
              "      <td>Monday</td>\n",
              "      <td>approxim nv personnel begin task unlock soquet...</td>\n",
              "    </tr>\n",
              "    <tr>\n",
              "      <th>4</th>\n",
              "      <td>2016-10-01</td>\n",
              "      <td>Country_01</td>\n",
              "      <td>Mining</td>\n",
              "      <td>4</td>\n",
              "      <td>IV</td>\n",
              "      <td>Male</td>\n",
              "      <td>Third Party</td>\n",
              "      <td>Others</td>\n",
              "      <td>Approximately at 11:45 a.m. in circumstances t...</td>\n",
              "      <td>Saturday</td>\n",
              "      <td>approxim circumst mechan anthoni group leader ...</td>\n",
              "    </tr>\n",
              "  </tbody>\n",
              "</table>\n",
              "</div>"
            ],
            "text/plain": [
              "        Date  ...                              Description_processed\n",
              "0 2016-01-01  ...  remov drill rod jumbo mainten supervisor proce...\n",
              "1 2016-02-01  ...  activ sodium sulphid pump pipe uncoupl sulfid ...\n",
              "2 2016-06-01  ...  milpo locat level collabor excav work pick han...\n",
              "3 2016-08-01  ...  approxim nv personnel begin task unlock soquet...\n",
              "4 2016-10-01  ...  approxim circumst mechan anthoni group leader ...\n",
              "\n",
              "[5 rows x 11 columns]"
            ]
          },
          "metadata": {
            "tags": []
          },
          "execution_count": 26
        }
      ]
    },
    {
      "cell_type": "code",
      "metadata": {
        "colab": {
          "base_uri": "https://localhost:8080/",
          "height": 514
        },
        "id": "_jYNaPe1ENfo",
        "outputId": "b6f79943-9f3f-4204-f4a7-6a52ebccc512"
      },
      "source": [
        "from sklearn.feature_extraction.text import CountVectorizer\n",
        "word_vectorizer = CountVectorizer(ngram_range=(2,3), analyzer='word')\n",
        "sparse_matrix = word_vectorizer.fit_transform(df['Description_processed'])\n",
        "frequencies = sum(sparse_matrix).toarray()[0]\n",
        "pd.DataFrame(frequencies, index=word_vectorizer.get_feature_names(), columns=['frequency']).sort_values(\"frequency\",ascending=False).head(15)"
      ],
      "execution_count": 27,
      "outputs": [
        {
          "output_type": "execute_result",
          "data": {
            "text/html": [
              "<div>\n",
              "<style scoped>\n",
              "    .dataframe tbody tr th:only-of-type {\n",
              "        vertical-align: middle;\n",
              "    }\n",
              "\n",
              "    .dataframe tbody tr th {\n",
              "        vertical-align: top;\n",
              "    }\n",
              "\n",
              "    .dataframe thead th {\n",
              "        text-align: right;\n",
              "    }\n",
              "</style>\n",
              "<table border=\"1\" class=\"dataframe\">\n",
              "  <thead>\n",
              "    <tr style=\"text-align: right;\">\n",
              "      <th></th>\n",
              "      <th>frequency</th>\n",
              "    </tr>\n",
              "  </thead>\n",
              "  <tbody>\n",
              "    <tr>\n",
              "      <th>left hand</th>\n",
              "      <td>70</td>\n",
              "    </tr>\n",
              "    <tr>\n",
              "      <th>right hand</th>\n",
              "      <td>57</td>\n",
              "    </tr>\n",
              "    <tr>\n",
              "      <th>caus injuri</th>\n",
              "      <td>57</td>\n",
              "    </tr>\n",
              "    <tr>\n",
              "      <th>time accid</th>\n",
              "      <td>56</td>\n",
              "    </tr>\n",
              "    <tr>\n",
              "      <th>finger left</th>\n",
              "      <td>25</td>\n",
              "    </tr>\n",
              "    <tr>\n",
              "      <th>employe report</th>\n",
              "      <td>24</td>\n",
              "    </tr>\n",
              "    <tr>\n",
              "      <th>finger left hand</th>\n",
              "      <td>24</td>\n",
              "    </tr>\n",
              "    <tr>\n",
              "      <th>injuri describ</th>\n",
              "      <td>20</td>\n",
              "    </tr>\n",
              "    <tr>\n",
              "      <th>da silva</th>\n",
              "      <td>18</td>\n",
              "    </tr>\n",
              "    <tr>\n",
              "      <th>describ injuri</th>\n",
              "      <td>17</td>\n",
              "    </tr>\n",
              "    <tr>\n",
              "      <th>medic center</th>\n",
              "      <td>17</td>\n",
              "    </tr>\n",
              "    <tr>\n",
              "      <th>caus injuri describ</th>\n",
              "      <td>16</td>\n",
              "    </tr>\n",
              "    <tr>\n",
              "      <th>hand caus</th>\n",
              "      <td>15</td>\n",
              "    </tr>\n",
              "    <tr>\n",
              "      <th>support mesh</th>\n",
              "      <td>15</td>\n",
              "    </tr>\n",
              "    <tr>\n",
              "      <th>fragment rock</th>\n",
              "      <td>15</td>\n",
              "    </tr>\n",
              "  </tbody>\n",
              "</table>\n",
              "</div>"
            ],
            "text/plain": [
              "                     frequency\n",
              "left hand                   70\n",
              "right hand                  57\n",
              "caus injuri                 57\n",
              "time accid                  56\n",
              "finger left                 25\n",
              "employe report              24\n",
              "finger left hand            24\n",
              "injuri describ              20\n",
              "da silva                    18\n",
              "describ injuri              17\n",
              "medic center                17\n",
              "caus injuri describ         16\n",
              "hand caus                   15\n",
              "support mesh                15\n",
              "fragment rock               15"
            ]
          },
          "metadata": {
            "tags": []
          },
          "execution_count": 27
        }
      ]
    },
    {
      "cell_type": "markdown",
      "metadata": {
        "id": "apeja7nw-JXA"
      },
      "source": [
        "#Analysis\n",
        "**Insights:**\n",
        "\n",
        "* Country_01 is the country where most of the accidents happen.\n",
        "\n",
        "> Is the company and its employee adhering to safety policies.Why the accidents are higher than other places. OR may be the operating size and size of the country is bigger than others. Eg. if someone compares accident in XYZ company in Vietnam and in India obviously data will be skewed so need a normalised data to dig into.\n",
        "\n",
        "\n",
        "\n",
        "* Mining industry sector is also the most significant contributor to accidents.\n",
        "\n",
        "> Obviously mining possess more risk  but even in metal sector or others if employee is not careful there is a risk\n",
        "\n",
        "*  In Gender,Male and in employment type third party employees are higher at risk of accidents.\n",
        "\n",
        "*  Real accident level counts are always higher than potential accident level count.\n",
        "> This needs to be addressed. As for accident level 1 ,Either the accident levels are being misreported to get a compensation in which definetely the supervisor is aiding as wihout his/her signatory compensation request won't be validated in HR's office. Or may be the potential risk level count which HR is putting in individual employees' profile needs to be updated as there is discrepancy in actual accident level employee fell into and the potential hazard graded to employee profile. IF level 1 accident << level 4 , it may be reported to not be scrutinised that stringently yet get a compensation. \n",
        "\n",
        "*   \"Others\" critical risk has the highest no. of  accidents attributed to it.\n",
        "> More information should be added to the dataset to help pin point the major cause of accidents.\n",
        "\n",
        "* Most accidents occur during feb \n",
        "> Probably due to increased production pressure/fiscal year end pressure.\n",
        "\n",
        "* Most accidents have hands , finger in description.\n",
        "> Which means it was probably an accident due to not adhering to proper safety standard and trying to get things fixed instead of with specialised machine and with apropriate safety gears \n",
        "\n",
        "* most accidents are not in high accident level 4 and 5 \n",
        "> Which probably are near fatal or fatal.\n",
        "\n",
        "**Compensation policy**\n",
        "\n",
        "* People being recruited for country1 , mining industry on third party payroll of male gender are potentially highest at risk and need to be high on the compensation policy . \n",
        "\n",
        "* Female associates in country 3 from other industry on third party remote payroll are at least risk and can have lesser compensation.\n",
        "\n",
        "* Compensation should be formulated according to the industry type and employee profiling analysis. For example, in mining or metal industry count of potential risk of level 4 is profiled much more than actual level 4 hazard. Instead level 1 accidents have happened more.So may be level 1 hazard should be less compensated and appropriate safety and monitoring should be more\n",
        "\n",
        "\n",
        "\n",
        "\n",
        "- Suppose we take the Metals sector.. and look into the Potential Accident Level 'IV', there are 6 cases when the Accident Level was indeed 'IV'. 6 cases were when the Accident Level was 'III'. 5 cases were when the Accident Level was 'II'. 16 cases were when the Accident Level was 'I'. So if we make a distribution compensation, compensation would be highest for the 6 cases when Accident Level was 'IV', and lowest for the 16 cases when Accident Level was 'I'. Likewise, we can do the same for other Industries across various Potential Accident Level. The ratio of Accident:Potential Accident is lower in case of Metals. So there was not misreported figure for level 4 accidents so the compensation could be higher in case of Metals. Similarly we can do such analysis and chalk out a compensation policy accordingly."
      ]
    },
    {
      "cell_type": "code",
      "metadata": {
        "id": "UX69aceJRNdY"
      },
      "source": [
        ""
      ],
      "execution_count": null,
      "outputs": []
    }
  ]
}